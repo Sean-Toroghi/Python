{
 "cells": [
  {
   "cell_type": "markdown",
   "metadata": {},
   "source": [
    "### Making statement"
   ]
  },
  {
   "cell_type": "markdown",
   "metadata": {},
   "source": [
    "assign multiple variables in a statement, or assign multiple variable to a __list__:"
   ]
  },
  {
   "cell_type": "code",
   "execution_count": 1,
   "metadata": {},
   "outputs": [],
   "source": [
    "a,b,c,d = 1,2,3,4\n",
    "list_1 = [1,2,3,4]\n",
    "list_2 = [[1,2,3,4],[-1,-2,-3,-4]]"
   ]
  },
  {
   "cell_type": "markdown",
   "metadata": {},
   "source": [
    "get value of index 1 (second value) from list_1 "
   ]
  },
  {
   "cell_type": "code",
   "execution_count": 2,
   "metadata": {},
   "outputs": [
    {
     "data": {
      "text/plain": [
       "2"
      ]
     },
     "execution_count": 2,
     "metadata": {},
     "output_type": "execute_result"
    }
   ],
   "source": [
    "list_1[1]"
   ]
  },
  {
   "cell_type": "markdown",
   "metadata": {},
   "source": [
    "get first value of first sublists in list_2"
   ]
  },
  {
   "cell_type": "code",
   "execution_count": 3,
   "metadata": {},
   "outputs": [
    {
     "data": {
      "text/plain": [
       "1"
      ]
     },
     "execution_count": 3,
     "metadata": {},
     "output_type": "execute_result"
    }
   ],
   "source": [
    "list_2[0][0]"
   ]
  },
  {
   "cell_type": "markdown",
   "metadata": {},
   "source": [
    "### List\n",
    "List contains multiple mutable-items .\n",
    "\n",
    "__List1 = [1,2,2,2,3,...]__\n",
    "\n",
    "| Command | description | example |\n",
    "|---------|---------------------------------------------------------------|-----------------------|\n",
    "| Slicing  |\n",
    "|  -| last item in the list1 | _list1 [-1]_ |\n",
    "|   -|all the items from index 0 to 2 (excluding 2) | _list1 [:2]_ |\n",
    "|   -|all items from index 2 (including 2) to the end | _list1 [2:]_ |\n",
    "|   -|all the items excluding the first and last items in the list1 | _list1 [1:-1]_ |\n",
    "| Len | length of the list1 | _len[list1]_ |\n",
    "| Append | append item x to end of list1 | _list1.append(x)_ |\n",
    "| Extend | add all the items in the list2 to the end of list1 | _list1.extend(list2)_ |\n",
    "| Insert | insert item x at the index i in list1 | _list1.insert(i,x)_ |\n",
    "| Remove |  remove item x from the list1| _list1.remove(x)_ |\n",
    "| Pop | remove last item in the list1 | _list1.pop()_ |\n",
    "|    -|remove item at index positioni from list1 | _list1.pop(i)_ |\n",
    "| Del | delete list1 | _del.list1ete_ |\n",
    "| Count | search list and return number of instances item x appears | _list1.count(x)_ |\n",
    "| Sort | sort all list items in the list1 | _list1.sort()_ |\n",
    "| Reverse | reverse all items in the list1 | _list1.reverse()_ |\n",
    "| Index | returns index of item x in the list1 | _list1.index(x)_ |\n",
    " \n",
    "\n",
    "\n",
    "\n",
    "### Tuple\n",
    "\n",
    "It is similar to list contains multiple items. However, __values cannot be changed (immutable values)__.\n",
    "\n",
    "__Tuple1 = (1,2,2,3,...)__\n",
    "\n",
    "Assign values of tuple to variables:  "
   ]
  },
  {
   "cell_type": "code",
   "execution_count": 4,
   "metadata": {},
   "outputs": [],
   "source": [
    "Tuple1 = (10,10,30)\n",
    "a,b,c = Tuple1"
   ]
  },
  {
   "cell_type": "markdown",
   "metadata": {},
   "source": [
    "\n",
    "### Set\n",
    "Set is a list of variables. Unlike list and tuple, __values are unique__ in a _set_.\n",
    "\n",
    "__Set1 = {1,2,3,...}__\n",
    "\n",
    "| action       | description                               | example                   |\n",
    "|--------------|-------------------------------------------|---------------------------|\n",
    "| add          | add item x to set1                        | _set1.add(x)_             |\n",
    "| Update       | add multiple items to set1                | _set1.update(1,2,3,...)_  |\n",
    "| Copy         | return a copy of set1                     | _set1.copy()_             |\n",
    "| Discard      | remove item x from set1                   | _set1.discard(x)_         |\n",
    "| Pop          | remove one random item from set1          | _set1.pop()_              |\n",
    "| Intersection | return items that appear in set1 and set2 | _set1.intersection(set2)_ |\n",
    "| Difference   | return items in set1, but not in set2     | _set1.diference(set2)_    |\n",
    "| in           | return boolean True if value x is in set1 | _x in set1_               |"
   ]
  },
  {
   "cell_type": "markdown",
   "metadata": {},
   "source": [
    "### Disctionary\n",
    "Dictionary is a list of variables and associated keys in _key:value_ format. Unlike list and tuple, values are unique in a _set_.\n",
    "\n",
    "__Dictionary1 = {'name':'John', 'address':'unknown',...}__\n",
    "\n",
    "| action       | description                               | example                   |\n",
    "|--------------|-------------------------------------------|---------------------------|\n",
    "| in    | return boolean True if value x is in Dictionary1 | _x in dictionary1_        |\n",
    "| del   | delete vlaue and key1                     | del Dictionary1['key1']          |\n",
    "| .     | show value associate with key1 in Dictionary1    | _Dictionary1['key1']_     |\n",
    "| .     | add key2:value2 pair to Dictionary1       | _Dictionary1 ['key2'] = 'value2'_ |\n",
    "| .     | show all keys in Dictionary1                  | _Dictionary1.keys()_         |\n"
   ]
  },
  {
   "cell_type": "markdown",
   "metadata": {},
   "source": [
    "### Loop with While over items\n",
    "\n",
    "Loop within items in a list (or set, dictionary):\n",
    "\n",
    "> _for item in_ list-name:  <br> \n",
    ">> statement for each iteration\n",
    "\n",
    "Display two comma seperated items in two lists:\n",
    "> _for item in zip(list1, list2):_  <br> \n",
    ">> statement for each iteration\n",
    "\n",
    "Diplay index value of items in a list:\n",
    "> _for item in enumerate(list1):_  <br> \n",
    ">> statement for each iteration\n",
    "\n",
    "\n",
    "Loop within a __range__: \n",
    "\n",
    "> _for i in range (start, stop[, step])_  <font color='gray'># include start and exclude stop</font> <br>\n",
    ">> statement for each iteration <br>\n",
    ">> break   <font color='gray'># break out the loop</font>  <br>\n",
    ">> continue   <font color='gray'># skip an iteration</font> \n",
    "\n",
    "#### PASS vs CONTINUE\n",
    "PASS: allows to process all subsequent statements on the iteration\n",
    "\n",
    "CONTINUE: only skips sebsequent statements on that iteration of the loop. "
   ]
  },
  {
   "cell_type": "code",
   "execution_count": 5,
   "metadata": {},
   "outputs": [
    {
     "name": "stdout",
     "output_type": "stream",
     "text": [
      "0\n",
      "4\n",
      "6\n",
      "8\n"
     ]
    }
   ],
   "source": [
    "for i in range (0,10,2):\n",
    "    if i==2:\n",
    "        continue\n",
    "    print (i)"
   ]
  },
  {
   "cell_type": "code",
   "execution_count": 6,
   "metadata": {},
   "outputs": [
    {
     "name": "stdout",
     "output_type": "stream",
     "text": [
      "\n",
      "replacing \"s\" with \"*\" in \" test the pass vs continue keywords \" , with two methods: \n",
      "\n",
      "using CONTINUE\n",
      "te*t the pa** v* continue keyword*\n",
      "using PASS\n",
      "te*st the pa*s*s v*s continue keyword*s"
     ]
    }
   ],
   "source": [
    "# PASS Vs. CONTINUE\n",
    "sentence1 = 'test the pass vs continue keywords'\n",
    "print ('\\nreplacing \"s\" with \"*\" in \" %s \"' % sentence1, \", with two methods: \\n\")\n",
    "print ('using CONTINUE')\n",
    "for char in sentence1:\n",
    "    if char == \"s\":\n",
    "        print ('*', end='')\n",
    "        continue\n",
    "    print (char, end='')\n",
    "    \n",
    "    \n",
    "print ('\\nusing PASS')\n",
    "for char in sentence1:\n",
    "    if char == \"s\":\n",
    "        print ('*', end='')\n",
    "        pass\n",
    "    print (char, end='')"
   ]
  },
  {
   "cell_type": "markdown",
   "metadata": {},
   "source": [
    "### Function\n",
    "\n",
    "> _def function_name (val_1, val_2, ...):_  <br>\n",
    ">> statement to be executed <br>\n",
    ">> _return return1, returen2, ..._ <br>\n",
    "\n",
    "__lambda__: anonymous un-named function with a single expression that must return a value.\n",
    "> _def function1 (val_1):  <br>\n",
    ">> return val_1 * 2 <br>\n",
    "\n",
    "is similar to\n",
    "> returned_value = _lambda val1: val1 * 2_  <br>\n",
    "\n"
   ]
  },
  {
   "cell_type": "code",
   "execution_count": 7,
   "metadata": {},
   "outputs": [
    {
     "name": "stdout",
     "output_type": "stream",
     "text": [
      "Global variable: 10\n",
      "Passed variable: 20\n",
      "Global variable + Passed variable=  30 (Returned variable) \n",
      "\n"
     ]
    },
    {
     "ename": "NameError",
     "evalue": "name 'returned_value' is not defined",
     "output_type": "error",
     "traceback": [
      "\u001b[1;31m---------------------------------------------------------------------------\u001b[0m",
      "\u001b[1;31mNameError\u001b[0m                                 Traceback (most recent call last)",
      "\u001b[1;32m<ipython-input-7-705ccb695a02>\u001b[0m in \u001b[0;36m<module>\u001b[1;34m\u001b[0m\n\u001b[0;32m     11\u001b[0m \u001b[1;33m\u001b[0m\u001b[0m\n\u001b[0;32m     12\u001b[0m \u001b[0mlambda_function\u001b[0m \u001b[1;33m=\u001b[0m \u001b[1;32mlambda\u001b[0m \u001b[0mval1\u001b[0m\u001b[1;33m:\u001b[0m \u001b[0mval1\u001b[0m \u001b[1;33m*\u001b[0m \u001b[1;36m2\u001b[0m\u001b[1;33m\u001b[0m\u001b[1;33m\u001b[0m\u001b[0m\n\u001b[1;32m---> 13\u001b[1;33m \u001b[0mprint\u001b[0m \u001b[1;33m(\u001b[0m\u001b[1;34m\"lambda_function->  passed value =2, returned value: \"\u001b[0m\u001b[1;33m,\u001b[0m\u001b[0mreturned_value\u001b[0m\u001b[1;33m(\u001b[0m\u001b[1;36m2\u001b[0m\u001b[1;33m)\u001b[0m \u001b[1;33m,\u001b[0m\u001b[1;34m\"\\n\"\u001b[0m\u001b[1;33m)\u001b[0m\u001b[1;33m\u001b[0m\u001b[1;33m\u001b[0m\u001b[0m\n\u001b[0m\u001b[0;32m     14\u001b[0m \u001b[1;33m\u001b[0m\u001b[0m\n\u001b[0;32m     15\u001b[0m \u001b[1;33m\u001b[0m\u001b[0m\n",
      "\u001b[1;31mNameError\u001b[0m: name 'returned_value' is not defined"
     ]
    }
   ],
   "source": [
    "global global_var1\n",
    "global_var1 = 10\n",
    "\n",
    "def variable_function (var1):\n",
    "    print (\"Global variable:\", global_var1)\n",
    "    print (\"Passed variable:\", var1)\n",
    "    return var1+global_var1\n",
    "\n",
    "return_var = variable_function(20)\n",
    "print (\"Global variable + Passed variable= \", return_var, \"(Returned variable) \\n\")\n",
    "\n",
    "lambda_function = lambda val1: val1 * 2\n",
    "print (\"lambda_function->  passed value =2, returned value: \",returned_value(2) ,\"\\n\")\n",
    "\n",
    "\n",
    "# Loop over functions\n",
    "\n",
    "  \n",
    "def func2(x): return x*2\n",
    "def func3(x): return x*3\n",
    "callback = [lambda x: x*1, func2, func3]\n",
    "print(\"Employ lambda and loop over funcitons\")\n",
    "for function in  callback: \n",
    "    print(\"Result for passing value 3 for function\",function, \"is: \", function(3))\n",
    "    "
   ]
  },
  {
   "cell_type": "markdown",
   "metadata": {},
   "source": [
    "#### Generator function\n",
    "\n",
    "Keywork: _yield_\n",
    "> def function1():\n",
    ">> _yield_ i\n"
   ]
  },
  {
   "cell_type": "code",
   "execution_count": 8,
   "metadata": {},
   "outputs": [
    {
     "name": "stdout",
     "output_type": "stream",
     "text": [
      "Enter the upper limit:88\n",
      "\n",
      "Fibonacci series:\n",
      "\n",
      "1\n",
      "1\n",
      "2\n",
      "3\n",
      "5\n",
      "8\n",
      "13\n",
      "21\n",
      "34\n",
      "55\n"
     ]
    }
   ],
   "source": [
    "#function that generates fibonacci series\n",
    "\n",
    "def fib_generator():\n",
    "    a=b=1\n",
    "    while True:\n",
    "        yield a\n",
    "        a,b = b,a+b\n",
    "upper_limit  = int(input(\"Enter the upper limit:\"))\n",
    "print ('\\nFibonacci series:\\n')\n",
    "fib = fib_generator()\n",
    "for i in fib:\n",
    "    if i > upper_limit:\n",
    "        break\n",
    "    else:\n",
    "        print (i)"
   ]
  },
  {
   "cell_type": "markdown",
   "metadata": {},
   "source": [
    "#### Exceptions\n",
    "\n",
    "> _try_: \n",
    ">> <font color='gray'># first block</font> <br>\n",
    "\n",
    "> _except (NameError, IndexError) as msg_:\n",
    ">>  <font color='gray'># block for handling exception</font>  <br>\n",
    ">>  print (msg)\n",
    "\n",
    "> _finally_:\n",
    ">> <font color='gray'># block that will be executed after exception is handled</font> \n"
   ]
  },
  {
   "cell_type": "markdown",
   "metadata": {},
   "source": [
    "#### Debugging a code with _assert_\n",
    "\n",
    "> _assert_  test_expression, descriptive_message\n",
    "\n",
    "\n",
    "__assert vs except__\n",
    "\n",
    "- _assert_ alert is used to notify programmer\n",
    "- _except_ handles an error"
   ]
  },
  {
   "cell_type": "code",
   "execution_count": 9,
   "metadata": {},
   "outputs": [
    {
     "ename": "AssertionError",
     "evalue": "passed element is not integer",
     "output_type": "error",
     "traceback": [
      "\u001b[1;31m---------------------------------------------------------------------------\u001b[0m",
      "\u001b[1;31mAssertionError\u001b[0m                            Traceback (most recent call last)",
      "\u001b[1;32m<ipython-input-9-dc22d03cacb8>\u001b[0m in \u001b[0;36m<module>\u001b[1;34m\u001b[0m\n\u001b[0;32m      2\u001b[0m     \u001b[1;32massert\u001b[0m \u001b[0mtype\u001b[0m\u001b[1;33m(\u001b[0m\u001b[0melement\u001b[0m\u001b[1;33m)\u001b[0m \u001b[1;32mis\u001b[0m \u001b[0mint\u001b[0m\u001b[1;33m,\u001b[0m \u001b[1;34m\"passed element is not integer\"\u001b[0m\u001b[1;33m\u001b[0m\u001b[1;33m\u001b[0m\u001b[0m\n\u001b[0;32m      3\u001b[0m \u001b[1;33m\u001b[0m\u001b[0m\n\u001b[1;32m----> 4\u001b[1;33m \u001b[0mdisplay_\u001b[0m\u001b[1;33m(\u001b[0m\u001b[1;36m0.5\u001b[0m\u001b[1;33m)\u001b[0m\u001b[1;33m\u001b[0m\u001b[1;33m\u001b[0m\u001b[0m\n\u001b[0m",
      "\u001b[1;32m<ipython-input-9-dc22d03cacb8>\u001b[0m in \u001b[0;36mdisplay_\u001b[1;34m(element)\u001b[0m\n\u001b[0;32m      1\u001b[0m \u001b[1;32mdef\u001b[0m \u001b[0mdisplay_\u001b[0m\u001b[1;33m(\u001b[0m\u001b[0melement\u001b[0m\u001b[1;33m)\u001b[0m\u001b[1;33m:\u001b[0m\u001b[1;33m\u001b[0m\u001b[1;33m\u001b[0m\u001b[0m\n\u001b[1;32m----> 2\u001b[1;33m     \u001b[1;32massert\u001b[0m \u001b[0mtype\u001b[0m\u001b[1;33m(\u001b[0m\u001b[0melement\u001b[0m\u001b[1;33m)\u001b[0m \u001b[1;32mis\u001b[0m \u001b[0mint\u001b[0m\u001b[1;33m,\u001b[0m \u001b[1;34m\"passed element is not integer\"\u001b[0m\u001b[1;33m\u001b[0m\u001b[1;33m\u001b[0m\u001b[0m\n\u001b[0m\u001b[0;32m      3\u001b[0m \u001b[1;33m\u001b[0m\u001b[0m\n\u001b[0;32m      4\u001b[0m \u001b[0mdisplay_\u001b[0m\u001b[1;33m(\u001b[0m\u001b[1;36m0.5\u001b[0m\u001b[1;33m)\u001b[0m\u001b[1;33m\u001b[0m\u001b[1;33m\u001b[0m\u001b[0m\n",
      "\u001b[1;31mAssertionError\u001b[0m: passed element is not integer"
     ]
    }
   ],
   "source": [
    "def display_(element):\n",
    "    assert type(element) is int, \"passed element is not integer\"\n",
    "\n",
    "display_(0.5)\n"
   ]
  },
  {
   "cell_type": "markdown",
   "metadata": {},
   "source": [
    "## Modeuls\n",
    "\n",
    "### storing function\n",
    "Modules are pre-developed funciton that can be imported via _import_ command. And then call each function by adding the function name after _modulename._\n",
    "\n",
    "example: a pre-developed Python function is saved as basic_math4.py and basic_math5.py with the following two funcitons:\n",
    "\n",
    "\n",
    "def int_sum (int1, int2):\n",
    "    return int1+int2  \n",
    "def int_multiply (int1, int2):\n",
    "    return int1*int2    \n",
    "def int_subtract (int1,int2):\n",
    "    return int1-int2\n",
    "\n",
    "Alternatively, we can import all functions using * and then just call the functions inside the module.\n"
   ]
  },
  {
   "cell_type": "markdown",
   "metadata": {},
   "source": [
    "__Import module basic_math4 and call each function using .name_of_function method:__"
   ]
  },
  {
   "cell_type": "code",
   "execution_count": 10,
   "metadata": {},
   "outputs": [],
   "source": [
    "import basic_math4"
   ]
  },
  {
   "cell_type": "code",
   "execution_count": 11,
   "metadata": {},
   "outputs": [
    {
     "name": "stdout",
     "output_type": "stream",
     "text": [
      "test the sum by calling the basic_math.int_multiply(2,4): \n",
      " 8\n"
     ]
    }
   ],
   "source": [
    "print(\"test the sum by calling the basic_math.int_multiply(2,4): \\n\", basic_math4.int_multiply(2,4))"
   ]
  },
  {
   "cell_type": "code",
   "execution_count": 12,
   "metadata": {},
   "outputs": [
    {
     "name": "stdout",
     "output_type": "stream",
     "text": [
      "test the subtract by calling the basic_math.int_subtract(2,4): \n",
      " -2\n"
     ]
    }
   ],
   "source": [
    "print(\"test the subtract by calling the basic_math.int_subtract(2,4): \\n\", basic_math4.int_subtract (2,4))"
   ]
  },
  {
   "cell_type": "markdown",
   "metadata": {},
   "source": [
    "__Import all functions inside the module basic_math5 and call functions directly:__"
   ]
  },
  {
   "cell_type": "code",
   "execution_count": 13,
   "metadata": {},
   "outputs": [],
   "source": [
    "from basic_math5 import *"
   ]
  },
  {
   "cell_type": "code",
   "execution_count": 14,
   "metadata": {},
   "outputs": [
    {
     "data": {
      "text/plain": [
       "6"
      ]
     },
     "execution_count": 14,
     "metadata": {},
     "output_type": "execute_result"
    }
   ],
   "source": [
    "int_sum(2,4)"
   ]
  },
  {
   "cell_type": "markdown",
   "metadata": {},
   "source": [
    "### interrogating modules: sys and keyword\n",
    "\n",
    "\n",
    "| function       | Description                                                                 |\n",
    "|----------------|-----------------------------------------------------------------------------|\n",
    "| sys.version    | python version                                                              |\n",
    "| sys.executable | location of the python interpreter                                          |\n",
    "| sys.path       | list of all directories where the Python interpreter looks for module files |\n",
    "| keyword.kwlist | list of all python keywords                                                 |"
   ]
  },
  {
   "cell_type": "markdown",
   "metadata": {},
   "source": [
    "### math module\n",
    "\n",
    "| Function      | Description                                                                                     |\n",
    "|---------------|-------------------------------------------------------------------------------------------------|\n",
    "| math.floor    | round down (returns float)                                                                      |\n",
    "| math.ceil     | round up (returns float)                                                                        |\n",
    "| math.sqrt     | square root                                                                                     |\n",
    "| math.pow      | raise value1 by value2                                                                          |\n",
    "| math.sin      |                                                                                                 |\n",
    "| math.cosin    |                                                                                                 |\n",
    "| math.tan      |                                                                                                 |\n",
    "| random.random | produces a single float between 0 and 1                                                         |\n",
    "| random.sample | produces a list of random variables                                                             |\n",
    "| .             | (first argument is the range (range(int1,int2) can be used here) and second argument is length) |"
   ]
  },
  {
   "cell_type": "markdown",
   "metadata": {},
   "source": [
    "### Decimal module\n",
    "\n",
    "While we can for example show only 2 decimal points of int1 by the following command, the value is still saved as a binary floating point. Decimal() comand makes the value exact (for example, Decimal(0.1-0.1) is exacly zero) <dr>\n",
    "\n",
    "print('%.2f'%int1) <dr>\n",
    "    \n"
   ]
  },
  {
   "cell_type": "code",
   "execution_count": 15,
   "metadata": {},
   "outputs": [
    {
     "name": "stdout",
     "output_type": "stream",
     "text": [
      "0.0\n",
      "0\n"
     ]
    }
   ],
   "source": [
    "from decimal import *\n",
    "int1 = 0.1\n",
    "int2 = 0.1\n",
    "print (int1-int2)\n",
    "print (Decimal(int1-int2))"
   ]
  },
  {
   "cell_type": "markdown",
   "metadata": {},
   "source": [
    "### \"Time\" module: datetime\n",
    "\n",
    "| Function                  | Description                                   |\n",
    "|---------------------------|-----------------------------------------------|\n",
    "| datetime.today            | current date and time (number)                |\n",
    "| datetime.year             | year                                          |\n",
    "| datetime.today.strftime() | return string:                                |\n",
    "| %A                        | full weekday name (%a abbreviated day name)   |\n",
    "| %B                        | full month name (%b abbreviated month's name) |\n",
    "| %d                        | day of the month                              |\n",
    "| %f                        | microsecond                                   |\n",
    "| %H                        | hour                                          |\n",
    "| %S                        | secon                                         |\n",
    "| %M                        | minute                                        |\n",
    "| %Y                        | year                                          |\n",
    "| %Z                        | timezone                                      |\n",
    "| %W                        | weak of the year                              |\n",
    "\n"
   ]
  },
  {
   "cell_type": "markdown",
   "metadata": {},
   "source": [
    "#### Running a timer \n",
    "\n",
    "time()\n"
   ]
  },
  {
   "cell_type": "markdown",
   "metadata": {},
   "source": [
    "### \"re\" module for matching patterns\n",
    "\n",
    "| Function               | Description                                                        |\n",
    "|------------------------|--------------------------------------------------------------------|\n",
    "| .                      | any character                                                      |\n",
    "| ^                      | first character                                                    |\n",
    "| $                      | final character                                                    |\n",
    "| *                      | zero or more repititions                                           |\n",
    "| +                      | one or more repetitions                                            |\n",
    "| ?                      | zero or more repetitions                                           |\n",
    "| {}                     | multiple repetitions                                               |\n",
    "| []                     | character class                                                    |\n",
    "| /s                     | special sequence                                                   |\n",
    "| |                      | either optional character                                          |\n",
    "| ()                     | expression group                                                   |\n",
    "| re.compile()           | define a pattern to be matched                                     |\n",
    "| pattern.match(string1) | apply pattern condition on string1 and return None or match object |\n",
    "| start() end()          | returns position of the match                                      |\n",
    "| group()                | returns the string matched by the comparison                       |"
   ]
  },
  {
   "cell_type": "code",
   "execution_count": 16,
   "metadata": {},
   "outputs": [],
   "source": [
    "from re import *"
   ]
  },
  {
   "cell_type": "code",
   "execution_count": 20,
   "metadata": {},
   "outputs": [],
   "source": [
    "pattern1 = compile('[0-9_.]{1,20} +[-a-z_.]{1,20} *[-a-z_.]{1,20}')"
   ]
  },
  {
   "cell_type": "code",
   "execution_count": 21,
   "metadata": {},
   "outputs": [
    {
     "name": "stdout",
     "output_type": "stream",
     "text": [
      "Enter the address:90 adams lake\n",
      "90 adams lake , is a valid address\n"
     ]
    }
   ],
   "source": [
    "# check the address format\n",
    "def address_check(adr1):\n",
    "    is_valid = pattern1.match(adr1)\n",
    "    if is_valid:\n",
    "        print(is_valid.group(),\", is a valid address\")\n",
    "    else:\n",
    "        print(\"No match \\n\")\n",
    "\n",
    "address_check(input(\"Enter the address:\"))\n"
   ]
  },
  {
   "cell_type": "markdown",
   "metadata": {},
   "source": [
    "## Class\n",
    "\n",
    "Consists of data structure that can contain functions and variables to characterize the object.\n",
    "\n",
    "> class class_name:\n",
    ">> <font color='gray'># any documentation</font> <br>\n",
    ">> any variable declarations<br>\n",
    ">> any method definitions\n",
    "\n",
    "__Example:class basic_math.py__\n",
    "> def int_sum (int1, int2): <br>\n",
    ">>  return int1+int2  <br>\n",
    "\n",
    "> def int_multiply (int1, int2):<br>\n",
    ">> return int1*int2    <br>\n",
    "\n",
    ">def int_subtract (int1,int2):<br>\n",
    ">> return int1-int2<br>\n",
    "\n",
    "\n",
    "Using a class in a program:\n",
    "\n",
    "_class_name.method.name()_ OR _class_name.attribute_name()_\n",
    "\n",
    "## A complete class decleration\n",
    "\n",
    "> class Class1:  <br>\n",
    ">> class_variable1 <br>\n",
    ">> \\_\\_init\\_\\_ (self, variable1): <font color='gray'># initialize method</font> <br>\n",
    ">>> self.instance_variable1 = variable1 <br>\n",
    ">>> Class1.class_variable1 = a_value <br>\n",
    "\n",
    ">>def function1 (self): <br>\n",
    ">>> return self.intance_variable1"
   ]
  },
  {
   "cell_type": "code",
   "execution_count": 6,
   "metadata": {},
   "outputs": [],
   "source": [
    "import basic_math as bmath"
   ]
  },
  {
   "cell_type": "code",
   "execution_count": 5,
   "metadata": {},
   "outputs": [
    {
     "name": "stdout",
     "output_type": "stream",
     "text": [
      "8\n"
     ]
    }
   ],
   "source": [
    "print (bmath.int_multiply(2,4))"
   ]
  },
  {
   "cell_type": "markdown",
   "metadata": {},
   "source": [
    "__Class example2: following code is saved as class2_conversation.py__"
   ]
  },
  {
   "cell_type": "code",
   "execution_count": 24,
   "metadata": {},
   "outputs": [],
   "source": [
    "class Class1 ():\n",
    "    '''example of a calss: a conversation recorder'''\n",
    "    counting = 0\n",
    "    \n",
    "    def __init__(self, line_variable):\n",
    "        self.responds = line_variable\n",
    "        Class1.counting += 1\n",
    "    \n",
    "    def conversation (self):\n",
    "        return self.responds"
   ]
  },
  {
   "cell_type": "code",
   "execution_count": 33,
   "metadata": {},
   "outputs": [],
   "source": [
    "from class2_conversation import *\n",
    "person1 = Class1(\"the first line of conversation by person1!\")"
   ]
  },
  {
   "cell_type": "code",
   "execution_count": 34,
   "metadata": {},
   "outputs": [
    {
     "name": "stdout",
     "output_type": "stream",
     "text": [
      "person number:  1\n"
     ]
    }
   ],
   "source": [
    "print (\"person number: \", Class1.counting)"
   ]
  },
  {
   "cell_type": "code",
   "execution_count": 35,
   "metadata": {},
   "outputs": [
    {
     "name": "stdout",
     "output_type": "stream",
     "text": [
      "class description:  example of a calss: a conversation recorder\n"
     ]
    }
   ],
   "source": [
    "print (\"class description: \", Class1.__doc__)"
   ]
  },
  {
   "cell_type": "code",
   "execution_count": 36,
   "metadata": {},
   "outputs": [
    {
     "name": "stdout",
     "output_type": "stream",
     "text": [
      "Person  1 says:  the first line of conversation by person1!\n"
     ]
    }
   ],
   "source": [
    "print(\"Person \", Class1.counting, \"says: \", person1.conversation())"
   ]
  },
  {
   "cell_type": "markdown",
   "metadata": {},
   "source": [
    "#### Class instance and its attributes\n",
    "We can add, modify, or remove attributes to a class instance\n",
    "\n",
    "| Function                                       | Description                                                                      |\n",
    "|------------------------------------------------|----------------------------------------------------------------------------------|\n",
    "| getattr(instance_name, 'attriute_name')        | returns the attribute value of the class instance                                |\n",
    "| hasattr(instance_name, 'attriute_name')        | returns TRUE if the attribute value exists in the instance                       |\n",
    "| setattr(instance_name, 'attriute_name', value) | updates the existing attribute value or  creates a new attribute in the instance |\n",
    "| delattr(instance_name, 'attriute_name')        | removes attribute from the instance                                              |\n",
    "\n",
    "| Function           | Description                                                                          |\n",
    "|--------------------|--------------------------------------------------------------------------------------|\n",
    "| class_name.__doc__ | display a list of built-in attributes                                                |\n",
    "| class_name.__dic__ | contains name-space dictionary of class components  keys and their associated values |\n",
    "| def __del__(self): | destroy instances of a class by calling this destructive method: del instance1       |\n",
    "\n",
    "\n",
    "__Example:__"
   ]
  },
  {
   "cell_type": "code",
   "execution_count": 37,
   "metadata": {},
   "outputs": [],
   "source": [
    "from class2_conversation import *"
   ]
  },
  {
   "cell_type": "code",
   "execution_count": 38,
   "metadata": {},
   "outputs": [],
   "source": [
    "person1 = Class1(\"conversation by the first person\")\n",
    "person2 = Class1(\"conversation by the second person\")"
   ]
  },
  {
   "cell_type": "markdown",
   "metadata": {},
   "source": [
    "Create an instance for each person:"
   ]
  },
  {
   "cell_type": "code",
   "execution_count": 39,
   "metadata": {},
   "outputs": [],
   "source": [
    "person1.gender = 'male'"
   ]
  },
  {
   "cell_type": "code",
   "execution_count": 40,
   "metadata": {},
   "outputs": [],
   "source": [
    "person2.gender = 'female'"
   ]
  },
  {
   "cell_type": "code",
   "execution_count": 41,
   "metadata": {},
   "outputs": [
    {
     "name": "stdout",
     "output_type": "stream",
     "text": [
      "person  3 says:  conversation by the first person\n"
     ]
    }
   ],
   "source": [
    "print ('person ', Class1.counting, \"says: \", person1.conversation())"
   ]
  },
  {
   "cell_type": "code",
   "execution_count": 42,
   "metadata": {},
   "outputs": [
    {
     "name": "stdout",
     "output_type": "stream",
     "text": [
      "person  3 gender is:  male\n"
     ]
    }
   ],
   "source": [
    "print ('person ', Class1.counting, \"gender is: \", person1.gender)"
   ]
  },
  {
   "cell_type": "code",
   "execution_count": 45,
   "metadata": {},
   "outputs": [],
   "source": [
    "setattr(person1, 'gender', 'female')"
   ]
  },
  {
   "cell_type": "code",
   "execution_count": 46,
   "metadata": {},
   "outputs": [
    {
     "name": "stdout",
     "output_type": "stream",
     "text": [
      "conversation : <bound method Class1.conversation of <class2_conversation.Class1 object at 0x000001393E8638D0>>\n",
      "counting : 3\n",
      "gender : female\n",
      "responds : conversation by the first person\n"
     ]
    }
   ],
   "source": [
    "for attrib in dir (person1):\n",
    "    if attrib[0] != '_':\n",
    "        print (attrib,':', getattr(person1, attrib))"
   ]
  },
  {
   "cell_type": "markdown",
   "metadata": {},
   "source": [
    "### Python interaction with HTTP\n",
    "\n",
    "https://aprelium.com/"
   ]
  },
  {
   "cell_type": "code",
   "execution_count": null,
   "metadata": {},
   "outputs": [],
   "source": []
  }
 ],
 "metadata": {
  "kernelspec": {
   "display_name": "Python 3",
   "language": "python",
   "name": "python3"
  },
  "language_info": {
   "codemirror_mode": {
    "name": "ipython",
    "version": 3
   },
   "file_extension": ".py",
   "mimetype": "text/x-python",
   "name": "python",
   "nbconvert_exporter": "python",
   "pygments_lexer": "ipython3",
   "version": "3.7.3"
  }
 },
 "nbformat": 4,
 "nbformat_minor": 2
}
